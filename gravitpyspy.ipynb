{
  "nbformat": 4,
  "nbformat_minor": 0,
  "metadata": {
    "colab": {
      "name": "gravitpyspy.ipynb",
      "version": "0.3.2",
      "provenance": [],
      "include_colab_link": true
    },
    "kernelspec": {
      "name": "python3",
      "display_name": "Python 3"
    }
  },
  "cells": [
    {
      "cell_type": "markdown",
      "metadata": {
        "id": "view-in-github",
        "colab_type": "text"
      },
      "source": [
        "<a href=\"https://colab.research.google.com/github/siddharth101/colabgoogle/blob/master/gravitpyspy.ipynb\" target=\"_parent\"><img src=\"https://colab.research.google.com/assets/colab-badge.svg\" alt=\"Open In Colab\"/></a>"
      ]
    },
    {
      "metadata": {
        "id": "SIra4yLDbVZb",
        "colab_type": "code",
        "colab": {}
      },
      "cell_type": "code",
      "source": [
        "import pandas as pd\n",
        "import numpy as np"
      ],
      "execution_count": 0,
      "outputs": []
    },
    {
      "metadata": {
        "id": "QEqJLuFSbZcM",
        "colab_type": "code",
        "colab": {}
      },
      "cell_type": "code",
      "source": [
        "url = \"https://raw.githubusercontent.com/siddharth101/colabgoogle/master/gspy-4.csv\"\n",
        "dfer14 = pd.read_csv(url)"
      ],
      "execution_count": 0,
      "outputs": []
    },
    {
      "metadata": {
        "id": "qmtR6sm4cNcL",
        "colab_type": "code",
        "colab": {}
      },
      "cell_type": "code",
      "source": [
        "### This file contains scattering triggers from gravityspy for ER14 above confidence 0.8. "
      ],
      "execution_count": 0,
      "outputs": []
    },
    {
      "metadata": {
        "id": "3QmcCkMpb9yT",
        "colab_type": "code",
        "colab": {
          "base_uri": "https://localhost:8080/",
          "height": 289
        },
        "outputId": "890afc8c-4021-4da8-fa72-ab067bff7374"
      },
      "cell_type": "code",
      "source": [
        "dfer14.head()"
      ],
      "execution_count": 3,
      "outputs": [
        {
          "output_type": "execute_result",
          "data": {
            "text/html": [
              "<div>\n",
              "<style scoped>\n",
              "    .dataframe tbody tr th:only-of-type {\n",
              "        vertical-align: middle;\n",
              "    }\n",
              "\n",
              "    .dataframe tbody tr th {\n",
              "        vertical-align: top;\n",
              "    }\n",
              "\n",
              "    .dataframe thead th {\n",
              "        text-align: right;\n",
              "    }\n",
              "</style>\n",
              "<table border=\"1\" class=\"dataframe\">\n",
              "  <thead>\n",
              "    <tr style=\"text-align: right;\">\n",
              "      <th></th>\n",
              "      <th>GPStime</th>\n",
              "      <th>peakFreq</th>\n",
              "      <th>snr</th>\n",
              "      <th>amplitude</th>\n",
              "      <th>centralFreq</th>\n",
              "      <th>duration</th>\n",
              "      <th>bandwidth</th>\n",
              "      <th>chisq</th>\n",
              "      <th>chisqDof</th>\n",
              "      <th>confidence</th>\n",
              "      <th>id</th>\n",
              "      <th>ifo</th>\n",
              "      <th>label</th>\n",
              "      <th>imgUrl</th>\n",
              "    </tr>\n",
              "  </thead>\n",
              "  <tbody>\n",
              "    <tr>\n",
              "      <th>0</th>\n",
              "      <td>1.237706e+09</td>\n",
              "      <td>31.293</td>\n",
              "      <td>13.738</td>\n",
              "      <td>2.600000e-22</td>\n",
              "      <td>3884.997</td>\n",
              "      <td>3.5</td>\n",
              "      <td>7725.503418</td>\n",
              "      <td>0.0</td>\n",
              "      <td>0.0</td>\n",
              "      <td>1.0</td>\n",
              "      <td>A2s9qhhRZW</td>\n",
              "      <td>L1</td>\n",
              "      <td>Scattered_Light</td>\n",
              "      <td>https://ldas-jobs.ligo-la.caltech.edu/~gravity...</td>\n",
              "    </tr>\n",
              "    <tr>\n",
              "      <th>1</th>\n",
              "      <td>1.237706e+09</td>\n",
              "      <td>31.293</td>\n",
              "      <td>13.738</td>\n",
              "      <td>2.600000e-22</td>\n",
              "      <td>3884.997</td>\n",
              "      <td>3.5</td>\n",
              "      <td>7725.503418</td>\n",
              "      <td>0.0</td>\n",
              "      <td>0.0</td>\n",
              "      <td>1.0</td>\n",
              "      <td>F4eS1f0kJu</td>\n",
              "      <td>L1</td>\n",
              "      <td>Scattered_Light</td>\n",
              "      <td>https://ldas-jobs.ligo-la.caltech.edu/~gravity...</td>\n",
              "    </tr>\n",
              "    <tr>\n",
              "      <th>2</th>\n",
              "      <td>1.237706e+09</td>\n",
              "      <td>31.293</td>\n",
              "      <td>13.738</td>\n",
              "      <td>2.600000e-22</td>\n",
              "      <td>3884.997</td>\n",
              "      <td>3.5</td>\n",
              "      <td>7725.503418</td>\n",
              "      <td>0.0</td>\n",
              "      <td>0.0</td>\n",
              "      <td>1.0</td>\n",
              "      <td>kqYqtgFeiF</td>\n",
              "      <td>L1</td>\n",
              "      <td>Scattered_Light</td>\n",
              "      <td>https://ldas-jobs.ligo-la.caltech.edu/~gravity...</td>\n",
              "    </tr>\n",
              "    <tr>\n",
              "      <th>3</th>\n",
              "      <td>1.237706e+09</td>\n",
              "      <td>31.293</td>\n",
              "      <td>13.738</td>\n",
              "      <td>2.600000e-22</td>\n",
              "      <td>3884.997</td>\n",
              "      <td>3.5</td>\n",
              "      <td>7725.503418</td>\n",
              "      <td>0.0</td>\n",
              "      <td>0.0</td>\n",
              "      <td>1.0</td>\n",
              "      <td>IlrE18AQ9L</td>\n",
              "      <td>L1</td>\n",
              "      <td>Scattered_Light</td>\n",
              "      <td>https://ldas-jobs.ligo-la.caltech.edu/~gravity...</td>\n",
              "    </tr>\n",
              "    <tr>\n",
              "      <th>4</th>\n",
              "      <td>1.237706e+09</td>\n",
              "      <td>31.293</td>\n",
              "      <td>13.738</td>\n",
              "      <td>2.600000e-22</td>\n",
              "      <td>3884.997</td>\n",
              "      <td>3.5</td>\n",
              "      <td>7725.503418</td>\n",
              "      <td>0.0</td>\n",
              "      <td>0.0</td>\n",
              "      <td>1.0</td>\n",
              "      <td>1qJ7tnRwiS</td>\n",
              "      <td>L1</td>\n",
              "      <td>Scattered_Light</td>\n",
              "      <td>https://ldas-jobs.ligo-la.caltech.edu/~gravity...</td>\n",
              "    </tr>\n",
              "  </tbody>\n",
              "</table>\n",
              "</div>"
            ],
            "text/plain": [
              "        GPStime  peakFreq     snr     amplitude  centralFreq  duration  \\\n",
              "0  1.237706e+09    31.293  13.738  2.600000e-22     3884.997       3.5   \n",
              "1  1.237706e+09    31.293  13.738  2.600000e-22     3884.997       3.5   \n",
              "2  1.237706e+09    31.293  13.738  2.600000e-22     3884.997       3.5   \n",
              "3  1.237706e+09    31.293  13.738  2.600000e-22     3884.997       3.5   \n",
              "4  1.237706e+09    31.293  13.738  2.600000e-22     3884.997       3.5   \n",
              "\n",
              "     bandwidth  chisq  chisqDof  confidence          id ifo            label  \\\n",
              "0  7725.503418    0.0       0.0         1.0  A2s9qhhRZW  L1  Scattered_Light   \n",
              "1  7725.503418    0.0       0.0         1.0  F4eS1f0kJu  L1  Scattered_Light   \n",
              "2  7725.503418    0.0       0.0         1.0  kqYqtgFeiF  L1  Scattered_Light   \n",
              "3  7725.503418    0.0       0.0         1.0  IlrE18AQ9L  L1  Scattered_Light   \n",
              "4  7725.503418    0.0       0.0         1.0  1qJ7tnRwiS  L1  Scattered_Light   \n",
              "\n",
              "                                              imgUrl  \n",
              "0  https://ldas-jobs.ligo-la.caltech.edu/~gravity...  \n",
              "1  https://ldas-jobs.ligo-la.caltech.edu/~gravity...  \n",
              "2  https://ldas-jobs.ligo-la.caltech.edu/~gravity...  \n",
              "3  https://ldas-jobs.ligo-la.caltech.edu/~gravity...  \n",
              "4  https://ldas-jobs.ligo-la.caltech.edu/~gravity...  "
            ]
          },
          "metadata": {
            "tags": []
          },
          "execution_count": 3
        }
      ]
    },
    {
      "metadata": {
        "id": "quKIsSKBcJFX",
        "colab_type": "code",
        "colab": {
          "base_uri": "https://localhost:8080/",
          "height": 340
        },
        "outputId": "92175338-0309-45cc-e257-5d1e6484fd7a"
      },
      "cell_type": "code",
      "source": [
        "dfer14.info()"
      ],
      "execution_count": 6,
      "outputs": [
        {
          "output_type": "stream",
          "text": [
            "<class 'pandas.core.frame.DataFrame'>\n",
            "RangeIndex: 2152 entries, 0 to 2151\n",
            "Data columns (total 14 columns):\n",
            "GPStime        2152 non-null float64\n",
            "peakFreq       2152 non-null float64\n",
            "snr            2152 non-null float64\n",
            "amplitude      2152 non-null float64\n",
            "centralFreq    2152 non-null float64\n",
            "duration       2152 non-null float64\n",
            "bandwidth      2152 non-null float64\n",
            "chisq          2152 non-null float64\n",
            "chisqDof       2152 non-null float64\n",
            "confidence     2152 non-null float64\n",
            "id             2152 non-null object\n",
            "ifo            2152 non-null object\n",
            "label          2152 non-null object\n",
            "imgUrl         2152 non-null object\n",
            "dtypes: float64(10), object(4)\n",
            "memory usage: 235.5+ KB\n"
          ],
          "name": "stdout"
        }
      ]
    },
    {
      "metadata": {
        "id": "m0kIgkHyb-_U",
        "colab_type": "code",
        "colab": {
          "base_uri": "https://localhost:8080/",
          "height": 34
        },
        "outputId": "f39ad9bc-cd20-4f23-c948-cbc62faa57ef"
      },
      "cell_type": "code",
      "source": [
        "dfer14.duplicated(\"GPStime\").sum()"
      ],
      "execution_count": 5,
      "outputs": [
        {
          "output_type": "execute_result",
          "data": {
            "text/plain": [
              "830"
            ]
          },
          "metadata": {
            "tags": []
          },
          "execution_count": 5
        }
      ]
    },
    {
      "metadata": {
        "id": "Xb0cPUqLcCn_",
        "colab_type": "code",
        "colab": {}
      },
      "cell_type": "code",
      "source": [
        ""
      ],
      "execution_count": 0,
      "outputs": []
    }
  ]
}